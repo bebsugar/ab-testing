{
 "cells": [
  {
   "cell_type": "markdown",
   "source": [
    "## Business Problem\n",
    "Company X has recently introduced a new type of bidding, average bidding, as an alternative to the current type of bidding called maximum bidding. One of our clients, bombabomba.com, decided to test this new feature and wants to do an A/B test to see if average bidding converts more than maximum bidding.\n",
    "\n",
    "## Dataset Story\n",
    "In this dataset, which includes the website information of bombabomba.com, there is information such as the number of advertisements that users see and click, as well as earnings information from here. There are two separate data sets, the control and test groups. The max binding strategy was presented to the control group, and the average binding strategy was presented to the test group.\n",
    "\n",
    "## Features\n",
    "\n",
    "**Impression**\tAd views count\n",
    "**Click**\tThe number of clicks on the displayed ad\n",
    "**Purchase**\tThe number of products purchased after the ads clicked\n",
    "**Earning**\tEarnings after purchased products"
   ],
   "metadata": {
    "collapsed": false
   }
  },
  {
   "cell_type": "code",
   "execution_count": 16,
   "outputs": [],
   "source": [
    "import numpy as np\n",
    "import pandas as pd\n",
    "import matplotlib.pyplot as plt\n",
    "import seaborn as sns\n",
    "from scipy.stats import shapiro, levene, ttest_ind\n",
    "\n",
    "pd.set_option('display.max_columns', None)\n",
    "pd.set_option('display.float_format', lambda x: '%.4f' % x)"
   ],
   "metadata": {
    "collapsed": false
   }
  },
  {
   "cell_type": "code",
   "execution_count": 17,
   "outputs": [],
   "source": [
    "A = pd.read_excel(\"ab_testing.xlsx\", sheet_name=\"Control Group\")\n",
    "B = pd.read_excel(\"ab_testing.xlsx\", sheet_name=\"Test Group\")"
   ],
   "metadata": {
    "collapsed": false
   }
  },
  {
   "cell_type": "code",
   "execution_count": 32,
   "outputs": [],
   "source": [
    "def check_df(dataframe, head=5):\n",
    "    print('\\033[1m' + '------------------ Shape ------------------' + '\\033[0m')\n",
    "    print(dataframe.shape)\n",
    "\n",
    "    print('\\033[1m' + '------------------ Types ------------------' + '\\033[0m')\n",
    "    print(dataframe.dtypes)\n",
    "\n",
    "    print('\\033[1m' + '------------------ Head ------------------' + '\\033[0m')\n",
    "    print(dataframe.head(head))\n",
    "\n",
    "    print('\\033[1m' + '------------------ Columns ------------------' + '\\033[0m')\n",
    "    print(dataframe.columns)\n",
    "\n",
    "    print('\\033[1m' + '--------------- Unique Elements ---------------' + '\\033[0m')\n",
    "    print(dataframe.nunique())\n",
    "\n",
    "    print('\\033[1m' + '------------------ NA ------------------' + '\\033[0m')\n",
    "    print(dataframe.isnull().sum())\n",
    "\n",
    "    print('\\033[1m' + '------------------ Quantiles ------------------' + '\\033[0m')\n",
    "    print(dataframe.describe([0.05, 0.50, 0.95, 0.99]).T)"
   ],
   "metadata": {
    "collapsed": false
   }
  },
  {
   "cell_type": "code",
   "execution_count": 33,
   "outputs": [],
   "source": [
    "def create_box_plot(dataframe, column=None):\n",
    "    print('\\033[1m' + '------------------ BOX PLOT ------------------' + '\\033[0m')\n",
    "    sns.boxplot(x=dataframe[column])\n",
    "    print(plt.show())"
   ],
   "metadata": {
    "collapsed": false
   }
  },
  {
   "cell_type": "code",
   "execution_count": 94,
   "outputs": [
    {
     "name": "stdout",
     "output_type": "stream",
     "text": [
      "\u001B[1m------------------ Shape ------------------\u001B[0m\n",
      "(40, 4)\n",
      "\u001B[1m------------------ Types ------------------\u001B[0m\n",
      "Impression_A    float64\n",
      "Click_A         float64\n",
      "Purchase_A      float64\n",
      "Earning_A       float64\n",
      "dtype: object\n",
      "\u001B[1m------------------ Head ------------------\u001B[0m\n",
      "   Impression_A   Click_A  Purchase_A  Earning_A\n",
      "0    82529.4593 6090.0773    665.2113  2311.2771\n",
      "1    98050.4519 3382.8618    315.0849  1742.8069\n",
      "2    82696.0235 4167.9657    458.0837  1797.8274\n",
      "3   109914.4004 4910.8822    487.0908  1696.2292\n",
      "4   108457.7626 5987.6558    441.0340  1543.7202\n",
      "\u001B[1m------------------ Columns ------------------\u001B[0m\n",
      "Index(['Impression_A', 'Click_A', 'Purchase_A', 'Earning_A'], dtype='object')\n",
      "\u001B[1m--------------- Unique Elements ---------------\u001B[0m\n",
      "Impression_A    40\n",
      "Click_A         40\n",
      "Purchase_A      40\n",
      "Earning_A       40\n",
      "dtype: int64\n",
      "\u001B[1m------------------ NA ------------------\u001B[0m\n",
      "Impression_A    0\n",
      "Click_A         0\n",
      "Purchase_A      0\n",
      "Earning_A       0\n",
      "dtype: int64\n",
      "\u001B[1m------------------ Quantiles ------------------\u001B[0m\n",
      "               count        mean        std        min         5%        50%  \\\n",
      "Impression_A 40.0000 101711.4491 20302.1579 45475.9430 79412.0179 99790.7011   \n",
      "Click_A      40.0000   5100.6574  1329.9855  2189.7532  3367.4843  5001.2206   \n",
      "Purchase_A   40.0000    550.8941   134.1082   267.0289   328.6624   531.2063   \n",
      "Earning_A    40.0000   1908.5683   302.9178  1253.9895  1329.5771  1975.1605   \n",
      "\n",
      "                     95%         99%         max  \n",
      "Impression_A 132950.5325 143105.7911 147539.3363  \n",
      "Click_A        7374.3612   7761.7951   7959.1251  \n",
      "Purchase_A      748.2708    790.1878    801.7950  \n",
      "Earning_A      2318.5285   2481.3087   2497.2952  \n"
     ]
    }
   ],
   "source": [
    "check_df(A)"
   ],
   "metadata": {
    "collapsed": false
   }
  },
  {
   "cell_type": "code",
   "execution_count": 31,
   "outputs": [
    {
     "name": "stdout",
     "output_type": "stream",
     "text": [
      "\u001B[1m------------------ BOX PLOT ------------------\u001B[0m\n"
     ]
    },
    {
     "data": {
      "text/plain": "<Figure size 640x480 with 1 Axes>",
      "image/png": "[encoded data removed]"
     },
     "metadata": {},
     "output_type": "display_data"
    },
    {
     "name": "stdout",
     "output_type": "stream",
     "text": [
      "None\n"
     ]
    }
   ],
   "source": [
    "create_box_plot(A, column=\"Purchase\")"
   ],
   "metadata": {
    "collapsed": false
   }
  },
  {
   "cell_type": "code",
   "execution_count": 36,
   "outputs": [
    {
     "name": "stdout",
     "output_type": "stream",
     "text": [
      "\u001B[1m------------------ Shape ------------------\u001B[0m\n",
      "(40, 4)\n",
      "\u001B[1m------------------ Types ------------------\u001B[0m\n",
      "Impression    float64\n",
      "Click         float64\n",
      "Purchase      float64\n",
      "Earning       float64\n",
      "dtype: object\n",
      "\u001B[1m------------------ Head ------------------\u001B[0m\n",
      "   Impression     Click  Purchase   Earning\n",
      "0 120103.5038 3216.5480  702.1603 1939.6112\n",
      "1 134775.9434 3635.0824  834.0543 2929.4058\n",
      "2 107806.6208 3057.1436  422.9343 2526.2449\n",
      "3 116445.2755 4650.4739  429.0335 2281.4286\n",
      "4 145082.5168 5201.3877  749.8604 2781.6975\n",
      "\u001B[1m------------------ Columns ------------------\u001B[0m\n",
      "Index(['Impression', 'Click', 'Purchase', 'Earning'], dtype='object')\n",
      "\u001B[1m--------------- Unique Elements ---------------\u001B[0m\n",
      "Impression    40\n",
      "Click         40\n",
      "Purchase      40\n",
      "Earning       40\n",
      "dtype: int64\n",
      "\u001B[1m------------------ NA ------------------\u001B[0m\n",
      "Impression    0\n",
      "Click         0\n",
      "Purchase      0\n",
      "Earning       0\n",
      "dtype: int64\n",
      "\u001B[1m------------------ Quantiles ------------------\u001B[0m\n",
      "             count        mean        std        min         5%         50%  \\\n",
      "Impression 40.0000 120512.4118 18807.4487 79033.8349 83150.5038 119291.3008   \n",
      "Click      40.0000   3967.5498   923.0951  1836.6299  2600.3610   3931.3598   \n",
      "Purchase   40.0000    582.1061   161.1525   311.6295   356.6954    551.3557   \n",
      "Earning    40.0000   2514.8907   282.7309  1939.6112  2080.9762   2544.6661   \n",
      "\n",
      "                   95%         99%         max  \n",
      "Impression 153178.6911 158245.2638 158605.9205  \n",
      "Click        5271.1869   6012.8773   6019.6951  \n",
      "Purchase      854.2089    876.5761    889.9105  \n",
      "Earning      2931.3114   3091.9409   3171.4897  \n"
     ]
    }
   ],
   "source": [
    "check_df(B)"
   ],
   "metadata": {
    "collapsed": false
   }
  },
  {
   "cell_type": "code",
   "execution_count": 37,
   "outputs": [
    {
     "name": "stdout",
     "output_type": "stream",
     "text": [
      "\u001B[1m------------------ BOX PLOT ------------------\u001B[0m\n"
     ]
    },
    {
     "data": {
      "text/plain": "<Figure size 640x480 with 1 Axes>",
      "image/png": "[encoded data removed]"
     },
     "metadata": {},
     "output_type": "display_data"
    },
    {
     "name": "stdout",
     "output_type": "stream",
     "text": [
      "None\n"
     ]
    }
   ],
   "source": [
    "create_box_plot(B, column=\"Purchase\")"
   ],
   "metadata": {
    "collapsed": false
   }
  },
  {
   "cell_type": "code",
   "execution_count": 47,
   "outputs": [],
   "source": [
    "A.columns = [i+\"_A\" for i in A.columns]\n",
    "B.columns = [i+\"_B\" for i in B.columns]"
   ],
   "metadata": {
    "collapsed": false
   }
  },
  {
   "cell_type": "code",
   "execution_count": 48,
   "outputs": [
    {
     "data": {
      "text/plain": "<pandas.io.formats.style.Styler at 0x2457e0948e0>",
      "text/html": "<style type=\"text/css\">\n#T_7b91c_row0_col0, #T_7b91c_row1_col1, #T_7b91c_row1_col2, #T_7b91c_row4_col3 {\n  background-color: #f7fbff;\n  color: #000000;\n}\n#T_7b91c_row0_col1, #T_7b91c_row0_col2, #T_7b91c_row0_col3, #T_7b91c_row3_col0 {\n  background-color: #08306b;\n  color: #f1f1f1;\n}\n#T_7b91c_row1_col0 {\n  background-color: #549fcd;\n  color: #f1f1f1;\n}\n#T_7b91c_row1_col3 {\n  background-color: #c3daee;\n  color: #000000;\n}\n#T_7b91c_row2_col0 {\n  background-color: #f6faff;\n  color: #000000;\n}\n#T_7b91c_row2_col1 {\n  background-color: #b9d6ea;\n  color: #000000;\n}\n#T_7b91c_row2_col2 {\n  background-color: #91c3de;\n  color: #000000;\n}\n#T_7b91c_row2_col3 {\n  background-color: #add0e6;\n  color: #000000;\n}\n#T_7b91c_row3_col1 {\n  background-color: #56a0ce;\n  color: #f1f1f1;\n}\n#T_7b91c_row3_col2 {\n  background-color: #6fb0d7;\n  color: #f1f1f1;\n}\n#T_7b91c_row3_col3 {\n  background-color: #d0e2f2;\n  color: #000000;\n}\n#T_7b91c_row4_col0 {\n  background-color: #083d7f;\n  color: #f1f1f1;\n}\n#T_7b91c_row4_col1 {\n  background-color: #083979;\n  color: #f1f1f1;\n}\n#T_7b91c_row4_col2 {\n  background-color: #a3cce3;\n  color: #000000;\n}\n</style>\n<table id=\"T_7b91c\">\n  <thead>\n    <tr>\n      <th class=\"blank level0\" >&nbsp;</th>\n      <th id=\"T_7b91c_level0_col0\" class=\"col_heading level0 col0\" >Impression_A</th>\n      <th id=\"T_7b91c_level0_col1\" class=\"col_heading level0 col1\" >Click_A</th>\n      <th id=\"T_7b91c_level0_col2\" class=\"col_heading level0 col2\" >Purchase_A</th>\n      <th id=\"T_7b91c_level0_col3\" class=\"col_heading level0 col3\" >Earning_A</th>\n    </tr>\n  </thead>\n  <tbody>\n    <tr>\n      <th id=\"T_7b91c_level0_row0\" class=\"row_heading level0 row0\" >0</th>\n      <td id=\"T_7b91c_row0_col0\" class=\"data row0 col0\" >82529.459271</td>\n      <td id=\"T_7b91c_row0_col1\" class=\"data row0 col1\" >6090.077317</td>\n      <td id=\"T_7b91c_row0_col2\" class=\"data row0 col2\" >665.211255</td>\n      <td id=\"T_7b91c_row0_col3\" class=\"data row0 col3\" >2311.277143</td>\n    </tr>\n    <tr>\n      <th id=\"T_7b91c_level0_row1\" class=\"row_heading level0 row1\" >1</th>\n      <td id=\"T_7b91c_row1_col0\" class=\"data row1 col0\" >98050.451926</td>\n      <td id=\"T_7b91c_row1_col1\" class=\"data row1 col1\" >3382.861786</td>\n      <td id=\"T_7b91c_row1_col2\" class=\"data row1 col2\" >315.084895</td>\n      <td id=\"T_7b91c_row1_col3\" class=\"data row1 col3\" >1742.806855</td>\n    </tr>\n    <tr>\n      <th id=\"T_7b91c_level0_row2\" class=\"row_heading level0 row2\" >2</th>\n      <td id=\"T_7b91c_row2_col0\" class=\"data row2 col0\" >82696.023549</td>\n      <td id=\"T_7b91c_row2_col1\" class=\"data row2 col1\" >4167.965750</td>\n      <td id=\"T_7b91c_row2_col2\" class=\"data row2 col2\" >458.083738</td>\n      <td id=\"T_7b91c_row2_col3\" class=\"data row2 col3\" >1797.827447</td>\n    </tr>\n    <tr>\n      <th id=\"T_7b91c_level0_row3\" class=\"row_heading level0 row3\" >3</th>\n      <td id=\"T_7b91c_row3_col0\" class=\"data row3 col0\" >109914.400398</td>\n      <td id=\"T_7b91c_row3_col1\" class=\"data row3 col1\" >4910.882240</td>\n      <td id=\"T_7b91c_row3_col2\" class=\"data row3 col2\" >487.090773</td>\n      <td id=\"T_7b91c_row3_col3\" class=\"data row3 col3\" >1696.229178</td>\n    </tr>\n    <tr>\n      <th id=\"T_7b91c_level0_row4\" class=\"row_heading level0 row4\" >4</th>\n      <td id=\"T_7b91c_row4_col0\" class=\"data row4 col0\" >108457.762630</td>\n      <td id=\"T_7b91c_row4_col1\" class=\"data row4 col1\" >5987.655811</td>\n      <td id=\"T_7b91c_row4_col2\" class=\"data row4 col2\" >441.034050</td>\n      <td id=\"T_7b91c_row4_col3\" class=\"data row4 col3\" >1543.720179</td>\n    </tr>\n  </tbody>\n</table>\n"
     },
     "execution_count": 48,
     "metadata": {},
     "output_type": "execute_result"
    }
   ],
   "source": [
    "A.head().style.background_gradient(cmap=\"Blues\")"
   ],
   "metadata": {
    "collapsed": false
   }
  },
  {
   "cell_type": "code",
   "execution_count": 58,
   "outputs": [
    {
     "data": {
      "text/plain": "<pandas.io.formats.style.Styler at 0x2457e070a60>",
      "text/html": "<style type=\"text/css\">\n#T_5709b_row0_col0 {\n  background-color: #cda1ce;\n  color: #000000;\n}\n#T_5709b_row0_col1 {\n  background-color: #ede9f3;\n  color: #000000;\n}\n#T_5709b_row0_col2 {\n  background-color: #dc1f74;\n  color: #f1f1f1;\n}\n#T_5709b_row0_col3, #T_5709b_row2_col0, #T_5709b_row2_col1, #T_5709b_row2_col2 {\n  background-color: #f7f4f9;\n  color: #000000;\n}\n#T_5709b_row1_col0 {\n  background-color: #d31760;\n  color: #f1f1f1;\n}\n#T_5709b_row1_col1 {\n  background-color: #d3b4d7;\n  color: #000000;\n}\n#T_5709b_row1_col2, #T_5709b_row1_col3, #T_5709b_row4_col0, #T_5709b_row4_col1 {\n  background-color: #67001f;\n  color: #f1f1f1;\n}\n#T_5709b_row2_col3 {\n  background-color: #e53994;\n  color: #f1f1f1;\n}\n#T_5709b_row3_col0 {\n  background-color: #d7bfdd;\n  color: #000000;\n}\n#T_5709b_row3_col1 {\n  background-color: #cf1358;\n  color: #f1f1f1;\n}\n#T_5709b_row3_col2 {\n  background-color: #f5f2f8;\n  color: #000000;\n}\n#T_5709b_row3_col3 {\n  background-color: #cc9dcc;\n  color: #000000;\n}\n#T_5709b_row4_col2 {\n  background-color: #ba0b4f;\n  color: #f1f1f1;\n}\n#T_5709b_row4_col3 {\n  background-color: #a20347;\n  color: #f1f1f1;\n}\n</style>\n<table id=\"T_5709b\">\n  <thead>\n    <tr>\n      <th class=\"blank level0\" >&nbsp;</th>\n      <th id=\"T_5709b_level0_col0\" class=\"col_heading level0 col0\" >Impression_B</th>\n      <th id=\"T_5709b_level0_col1\" class=\"col_heading level0 col1\" >Click_B</th>\n      <th id=\"T_5709b_level0_col2\" class=\"col_heading level0 col2\" >Purchase_B</th>\n      <th id=\"T_5709b_level0_col3\" class=\"col_heading level0 col3\" >Earning_B</th>\n    </tr>\n  </thead>\n  <tbody>\n    <tr>\n      <th id=\"T_5709b_level0_row0\" class=\"row_heading level0 row0\" >0</th>\n      <td id=\"T_5709b_row0_col0\" class=\"data row0 col0\" >120103.503796</td>\n      <td id=\"T_5709b_row0_col1\" class=\"data row0 col1\" >3216.547958</td>\n      <td id=\"T_5709b_row0_col2\" class=\"data row0 col2\" >702.160346</td>\n      <td id=\"T_5709b_row0_col3\" class=\"data row0 col3\" >1939.611243</td>\n    </tr>\n    <tr>\n      <th id=\"T_5709b_level0_row1\" class=\"row_heading level0 row1\" >1</th>\n      <td id=\"T_5709b_row1_col0\" class=\"data row1 col0\" >134775.943363</td>\n      <td id=\"T_5709b_row1_col1\" class=\"data row1 col1\" >3635.082422</td>\n      <td id=\"T_5709b_row1_col2\" class=\"data row1 col2\" >834.054286</td>\n      <td id=\"T_5709b_row1_col3\" class=\"data row1 col3\" >2929.405820</td>\n    </tr>\n    <tr>\n      <th id=\"T_5709b_level0_row2\" class=\"row_heading level0 row2\" >2</th>\n      <td id=\"T_5709b_row2_col0\" class=\"data row2 col0\" >107806.620788</td>\n      <td id=\"T_5709b_row2_col1\" class=\"data row2 col1\" >3057.143560</td>\n      <td id=\"T_5709b_row2_col2\" class=\"data row2 col2\" >422.934258</td>\n      <td id=\"T_5709b_row2_col3\" class=\"data row2 col3\" >2526.244877</td>\n    </tr>\n    <tr>\n      <th id=\"T_5709b_level0_row3\" class=\"row_heading level0 row3\" >3</th>\n      <td id=\"T_5709b_row3_col0\" class=\"data row3 col0\" >116445.275526</td>\n      <td id=\"T_5709b_row3_col1\" class=\"data row3 col1\" >4650.473911</td>\n      <td id=\"T_5709b_row3_col2\" class=\"data row3 col2\" >429.033535</td>\n      <td id=\"T_5709b_row3_col3\" class=\"data row3 col3\" >2281.428574</td>\n    </tr>\n    <tr>\n      <th id=\"T_5709b_level0_row4\" class=\"row_heading level0 row4\" >4</th>\n      <td id=\"T_5709b_row4_col0\" class=\"data row4 col0\" >145082.516838</td>\n      <td id=\"T_5709b_row4_col1\" class=\"data row4 col1\" >5201.387724</td>\n      <td id=\"T_5709b_row4_col2\" class=\"data row4 col2\" >749.860442</td>\n      <td id=\"T_5709b_row4_col3\" class=\"data row4 col3\" >2781.697521</td>\n    </tr>\n  </tbody>\n</table>\n"
     },
     "execution_count": 58,
     "metadata": {},
     "output_type": "execute_result"
    }
   ],
   "source": [
    "B.head().style.background_gradient(cmap=\"PuRd\")"
   ],
   "metadata": {
    "collapsed": false
   }
  },
  {
   "cell_type": "code",
   "execution_count": 78,
   "outputs": [
    {
     "data": {
      "text/plain": "<pandas.io.formats.style.Styler at 0x24501ce4310>",
      "text/html": "<style type=\"text/css\">\n#T_c8754_row0_col0, #T_c8754_row0_col7, #T_c8754_row1_col1, #T_c8754_row1_col2, #T_c8754_row2_col0, #T_c8754_row2_col4, #T_c8754_row2_col5, #T_c8754_row2_col6, #T_c8754_row4_col3 {\n  background-color: #fcfbfd;\n  color: #000000;\n}\n#T_c8754_row0_col1, #T_c8754_row0_col2, #T_c8754_row0_col3, #T_c8754_row1_col6, #T_c8754_row1_col7, #T_c8754_row3_col0, #T_c8754_row4_col4, #T_c8754_row4_col5 {\n  background-color: #3f007d;\n  color: #f1f1f1;\n}\n#T_c8754_row0_col4, #T_c8754_row2_col3 {\n  background-color: #c7c8e1;\n  color: #000000;\n}\n#T_c8754_row0_col5 {\n  background-color: #f4f3f8;\n  color: #000000;\n}\n#T_c8754_row0_col6 {\n  background-color: #776ab0;\n  color: #f1f1f1;\n}\n#T_c8754_row1_col0 {\n  background-color: #8e8ac0;\n  color: #f1f1f1;\n}\n#T_c8754_row1_col3 {\n  background-color: #d8d8ea;\n  color: #000000;\n}\n#T_c8754_row1_col4 {\n  background-color: #6e5aa8;\n  color: #f1f1f1;\n}\n#T_c8754_row1_col5 {\n  background-color: #d6d6e9;\n  color: #000000;\n}\n#T_c8754_row2_col1 {\n  background-color: #d0d1e6;\n  color: #000000;\n}\n#T_c8754_row2_col2 {\n  background-color: #b4b4d7;\n  color: #000000;\n}\n#T_c8754_row2_col7 {\n  background-color: #8885be;\n  color: #f1f1f1;\n}\n#T_c8754_row3_col1 {\n  background-color: #8e8bc1;\n  color: #f1f1f1;\n}\n#T_c8754_row3_col2 {\n  background-color: #a09dca;\n  color: #f1f1f1;\n}\n#T_c8754_row3_col3 {\n  background-color: #e3e2ef;\n  color: #000000;\n}\n#T_c8754_row3_col4 {\n  background-color: #ddddec;\n  color: #000000;\n}\n#T_c8754_row3_col5 {\n  background-color: #6b53a4;\n  color: #f1f1f1;\n}\n#T_c8754_row3_col6 {\n  background-color: #fbfafc;\n  color: #000000;\n}\n#T_c8754_row3_col7 {\n  background-color: #c3c4e0;\n  color: #000000;\n}\n#T_c8754_row4_col0 {\n  background-color: #481084;\n  color: #f1f1f1;\n}\n#T_c8754_row4_col1 {\n  background-color: #450b82;\n  color: #f1f1f1;\n}\n#T_c8754_row4_col2 {\n  background-color: #bfc0de;\n  color: #000000;\n}\n#T_c8754_row4_col6 {\n  background-color: #62429c;\n  color: #f1f1f1;\n}\n#T_c8754_row4_col7 {\n  background-color: #582f93;\n  color: #f1f1f1;\n}\n</style>\n<table id=\"T_c8754\">\n  <thead>\n    <tr>\n      <th class=\"blank level0\" >&nbsp;</th>\n      <th id=\"T_c8754_level0_col0\" class=\"col_heading level0 col0\" >Impression_A</th>\n      <th id=\"T_c8754_level0_col1\" class=\"col_heading level0 col1\" >Click_A</th>\n      <th id=\"T_c8754_level0_col2\" class=\"col_heading level0 col2\" >Purchase_A</th>\n      <th id=\"T_c8754_level0_col3\" class=\"col_heading level0 col3\" >Earning_A</th>\n      <th id=\"T_c8754_level0_col4\" class=\"col_heading level0 col4\" >Impression_B</th>\n      <th id=\"T_c8754_level0_col5\" class=\"col_heading level0 col5\" >Click_B</th>\n      <th id=\"T_c8754_level0_col6\" class=\"col_heading level0 col6\" >Purchase_B</th>\n      <th id=\"T_c8754_level0_col7\" class=\"col_heading level0 col7\" >Earning_B</th>\n    </tr>\n  </thead>\n  <tbody>\n    <tr>\n      <th id=\"T_c8754_level0_row0\" class=\"row_heading level0 row0\" >0</th>\n      <td id=\"T_c8754_row0_col0\" class=\"data row0 col0\" >82529.459271</td>\n      <td id=\"T_c8754_row0_col1\" class=\"data row0 col1\" >6090.077317</td>\n      <td id=\"T_c8754_row0_col2\" class=\"data row0 col2\" >665.211255</td>\n      <td id=\"T_c8754_row0_col3\" class=\"data row0 col3\" >2311.277143</td>\n      <td id=\"T_c8754_row0_col4\" class=\"data row0 col4\" >120103.503796</td>\n      <td id=\"T_c8754_row0_col5\" class=\"data row0 col5\" >3216.547958</td>\n      <td id=\"T_c8754_row0_col6\" class=\"data row0 col6\" >702.160346</td>\n      <td id=\"T_c8754_row0_col7\" class=\"data row0 col7\" >1939.611243</td>\n    </tr>\n    <tr>\n      <th id=\"T_c8754_level0_row1\" class=\"row_heading level0 row1\" >1</th>\n      <td id=\"T_c8754_row1_col0\" class=\"data row1 col0\" >98050.451926</td>\n      <td id=\"T_c8754_row1_col1\" class=\"data row1 col1\" >3382.861786</td>\n      <td id=\"T_c8754_row1_col2\" class=\"data row1 col2\" >315.084895</td>\n      <td id=\"T_c8754_row1_col3\" class=\"data row1 col3\" >1742.806855</td>\n      <td id=\"T_c8754_row1_col4\" class=\"data row1 col4\" >134775.943363</td>\n      <td id=\"T_c8754_row1_col5\" class=\"data row1 col5\" >3635.082422</td>\n      <td id=\"T_c8754_row1_col6\" class=\"data row1 col6\" >834.054286</td>\n      <td id=\"T_c8754_row1_col7\" class=\"data row1 col7\" >2929.405820</td>\n    </tr>\n    <tr>\n      <th id=\"T_c8754_level0_row2\" class=\"row_heading level0 row2\" >2</th>\n      <td id=\"T_c8754_row2_col0\" class=\"data row2 col0\" >82696.023549</td>\n      <td id=\"T_c8754_row2_col1\" class=\"data row2 col1\" >4167.965750</td>\n      <td id=\"T_c8754_row2_col2\" class=\"data row2 col2\" >458.083738</td>\n      <td id=\"T_c8754_row2_col3\" class=\"data row2 col3\" >1797.827447</td>\n      <td id=\"T_c8754_row2_col4\" class=\"data row2 col4\" >107806.620788</td>\n      <td id=\"T_c8754_row2_col5\" class=\"data row2 col5\" >3057.143560</td>\n      <td id=\"T_c8754_row2_col6\" class=\"data row2 col6\" >422.934258</td>\n      <td id=\"T_c8754_row2_col7\" class=\"data row2 col7\" >2526.244877</td>\n    </tr>\n    <tr>\n      <th id=\"T_c8754_level0_row3\" class=\"row_heading level0 row3\" >3</th>\n      <td id=\"T_c8754_row3_col0\" class=\"data row3 col0\" >109914.400398</td>\n      <td id=\"T_c8754_row3_col1\" class=\"data row3 col1\" >4910.882240</td>\n      <td id=\"T_c8754_row3_col2\" class=\"data row3 col2\" >487.090773</td>\n      <td id=\"T_c8754_row3_col3\" class=\"data row3 col3\" >1696.229178</td>\n      <td id=\"T_c8754_row3_col4\" class=\"data row3 col4\" >116445.275526</td>\n      <td id=\"T_c8754_row3_col5\" class=\"data row3 col5\" >4650.473911</td>\n      <td id=\"T_c8754_row3_col6\" class=\"data row3 col6\" >429.033535</td>\n      <td id=\"T_c8754_row3_col7\" class=\"data row3 col7\" >2281.428574</td>\n    </tr>\n    <tr>\n      <th id=\"T_c8754_level0_row4\" class=\"row_heading level0 row4\" >4</th>\n      <td id=\"T_c8754_row4_col0\" class=\"data row4 col0\" >108457.762630</td>\n      <td id=\"T_c8754_row4_col1\" class=\"data row4 col1\" >5987.655811</td>\n      <td id=\"T_c8754_row4_col2\" class=\"data row4 col2\" >441.034050</td>\n      <td id=\"T_c8754_row4_col3\" class=\"data row4 col3\" >1543.720179</td>\n      <td id=\"T_c8754_row4_col4\" class=\"data row4 col4\" >145082.516838</td>\n      <td id=\"T_c8754_row4_col5\" class=\"data row4 col5\" >5201.387724</td>\n      <td id=\"T_c8754_row4_col6\" class=\"data row4 col6\" >749.860442</td>\n      <td id=\"T_c8754_row4_col7\" class=\"data row4 col7\" >2781.697521</td>\n    </tr>\n  </tbody>\n</table>\n"
     },
     "execution_count": 78,
     "metadata": {},
     "output_type": "execute_result"
    }
   ],
   "source": [
    "df = pd.concat([A, B], axis=1)\n",
    "df.head().style.background_gradient(cmap=\"Purples\")"
   ],
   "metadata": {
    "collapsed": false
   }
  },
  {
   "cell_type": "markdown",
   "source": [
    "**1. Set up the Hypothesis**\n",
    "\n",
    "**H0: M1 = M2**\n",
    "\n",
    "--> There is no statistical difference between the average purchase earned by the maximum binding strategy and the average purchase achieved by the average binding strategy.\n",
    "\n",
    "**H1: M1 != M2**\n",
    "\n",
    "--> There is a statistical difference between the average purchase earned by the maximum binding strategy and the average purchases earned by the average binding strategy."
   ],
   "metadata": {
    "collapsed": false
   }
  },
  {
   "cell_type": "code",
   "execution_count": 65,
   "outputs": [
    {
     "name": "stdout",
     "output_type": "stream",
     "text": [
      "\u001B[1mMean of purchase of control group\u001B[0m\n",
      "550.8940587702316\n",
      "\u001B[1mMean of purchase of test group\u001B[0m\n",
      "582.1060966484675\n"
     ]
    }
   ],
   "source": [
    "print('\\033[1m' + 'Mean of purchase of control group' + '\\033[0m')\n",
    "print(A.Purchase_A.mean())\n",
    "print('\\033[1m' + 'Mean of purchase of test group' + '\\033[0m')\n",
    "print(B.Purchase_B.mean())"
   ],
   "metadata": {
    "collapsed": false
   }
  },
  {
   "cell_type": "markdown",
   "source": [
    "**Looking at the purchase rates for the two groups, there is a difference and Group B seems to be more successful.\n",
    "However, we do not know whether this difference is statistically significant. To understand this, we need to perform hypothesis testing.**"
   ],
   "metadata": {
    "collapsed": false
   }
  },
  {
   "cell_type": "markdown",
   "source": [
    "**2. Assumption Check**\n",
    "\n",
    "**2.1. Normality Assumption**\n",
    "\n",
    "* H0: There is no statistically significant difference between sample distribution and theoretical normal distribution.\n",
    "* H1: There is statistically significant difference between sample distribution and theoretical normal distribution.\n",
    "\n",
    "The test rejects the normality hypothesis when the p value is less than or equal to 0.05.\n",
    "It is undesirable to reject the null hypothesis in tests that can be considered for assumptions.\n",
    "\n",
    "p-value < 0.05 (H0 rejected)\n",
    "p-value > 0.05 (H0 not rejected)"
   ],
   "metadata": {
    "collapsed": false
   }
  },
  {
   "cell_type": "code",
   "execution_count": 70,
   "outputs": [
    {
     "name": "stdout",
     "output_type": "stream",
     "text": [
      "\u001B[1m----- Control group -----\u001B[0m\n",
      "Test statistic = 0.9773, P-value = 0.5891\n",
      "\u001B[1m----- Test group -----\u001B[0m\n",
      "Test statistic = 0.9589, P-Value = 0.1541\n"
     ]
    }
   ],
   "source": [
    "# Shapiro-Wilks Tests\n",
    "\n",
    "print('\\033[1m' + '----- Control group -----' + '\\033[0m')\n",
    "test_stat, p_value = shapiro(A['Purchase_A'])\n",
    "print('Test statistic = %.4f, P-value = %.4f' % (test_stat, p_value))\n",
    "\n",
    "print('\\033[1m' + '----- Test group -----' + '\\033[0m')\n",
    "test_st , p_value = shapiro(B[\"Purchase_B\"])\n",
    "print('Test statistic = %.4f, P-Value = %.4f' % (test_st, p_value))"
   ],
   "metadata": {
    "collapsed": false
   }
  },
  {
   "cell_type": "markdown",
   "source": [
    "**Since the p value is not less than 0.05, the H0 hypothesis cannot be rejected. The assumption of normality is provided for the control group.**"
   ],
   "metadata": {
    "collapsed": false
   }
  },
  {
   "cell_type": "markdown",
   "source": [
    "**2.2. Variance Assumption**\n",
    "\n",
    "* H0: the compared groups have equal variance.\n",
    "* H1: the compared groups do not have equal variance.\n",
    "\n",
    "It is undesirable to reject the null hypothesis in tests that can be considered for assumptions.\n",
    "\n",
    "p-value < 0.05 (H0 rejected)\n",
    "p-value > 0.05 (H0 not rejected)"
   ],
   "metadata": {
    "collapsed": false
   }
  },
  {
   "cell_type": "code",
   "execution_count": 79,
   "outputs": [
    {
     "name": "stdout",
     "output_type": "stream",
     "text": [
      "Test statistic = 2.6393, p-Value = 0.1083\n"
     ]
    }
   ],
   "source": [
    "# Levene Test\n",
    "\n",
    "test_st, p_value = levene(df[\"Purchase_A\"],df[\"Purchase_B\"])\n",
    "print('Test statistic = %.4f, p-Value = %.4f' %(test_st, p_value))"
   ],
   "metadata": {
    "collapsed": false
   }
  },
  {
   "cell_type": "markdown",
   "source": [
    "**Since the p value is not less than 0.05 the H0 hypothesis cannot be rejected. That is, the assumption of variance is provided.**"
   ],
   "metadata": {
    "collapsed": false
   }
  },
  {
   "cell_type": "markdown",
   "source": [
    "**Assumptions provided. Thus, we can apply the independent two-sample t-test (parametric test).**"
   ],
   "metadata": {
    "collapsed": false
   }
  },
  {
   "cell_type": "code",
   "execution_count": 75,
   "outputs": [
    {
     "name": "stdout",
     "output_type": "stream",
     "text": [
      "Test statistic = -0.9416, p_value = 0.3493\n"
     ]
    }
   ],
   "source": [
    "test_st, p_value = ttest_ind(df[\"Purchase_A\"], df[\"Purchase_B\"], equal_var=True)\n",
    "print('Test statistic = %.4f, p_value = %.4f' %(test_st, p_value))"
   ],
   "metadata": {
    "collapsed": false
   }
  },
  {
   "cell_type": "markdown",
   "source": [
    "**P-value = 0.3493.**\n",
    "\n",
    "**Since the p value is not less than 0.05, the H0 hypothesis cannot be rejected.**\n",
    "\n",
    "**There is no statistically significant difference between the \"Maximum Bidding\" campaign control group and the \"Test group\" with the \"Average Bidding\" campaign. Therefore, we recommend that you continue with the campaign that gives the \"Maximum Bidding\" currently used.**\n",
    "\n",
    "**I used parametric hypothesis testing since variance homogeneity and normality assumption were provided.**"
   ],
   "metadata": {
    "collapsed": false
   }
  }
 ],
 "metadata": {
  "kernelspec": {
   "display_name": "Python 3",
   "language": "python",
   "name": "python3"
  },
  "language_info": {
   "codemirror_mode": {
    "name": "ipython",
    "version": 2
   },
   "file_extension": ".py",
   "mimetype": "text/x-python",
   "name": "python",
   "nbconvert_exporter": "python",
   "pygments_lexer": "ipython2",
   "version": "2.7.6"
  }
 },
 "nbformat": 4,
 "nbformat_minor": 0
}
